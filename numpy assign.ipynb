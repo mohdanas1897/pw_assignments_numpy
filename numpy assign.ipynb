{
 "cells": [
  {
   "cell_type": "raw",
   "id": "3a57d270-0fa0-442f-b515-c90e075f9852",
   "metadata": {},
   "source": [
    "                                      # numpy assignment for data analytics"
   ]
  },
  {
   "cell_type": "code",
   "execution_count": 1,
   "id": "b819c7af-884d-44de-b7f9-fdc3e054039d",
   "metadata": {},
   "outputs": [],
   "source": [
    "import numpy as np"
   ]
  },
  {
   "cell_type": "code",
   "execution_count": 2,
   "id": "8d2a605d-29e1-4ceb-9010-ca3f432032e4",
   "metadata": {},
   "outputs": [
    {
     "data": {
      "text/plain": [
       "dtype('int64')"
      ]
     },
     "execution_count": 2,
     "metadata": {},
     "output_type": "execute_result"
    }
   ],
   "source": [
    "# 1 create an array 'arr'of integers from 0 to 5 and print its data type \n",
    "arr=np.array([0,1,2,3,4,5])\n",
    "arr.dtype"
   ]
  },
  {
   "cell_type": "code",
   "execution_count": 3,
   "id": "ffd728f7-ded4-48c0-8dbc-8ace1566b376",
   "metadata": {},
   "outputs": [
    {
     "data": {
      "text/plain": [
       "True"
      ]
     },
     "execution_count": 3,
     "metadata": {},
     "output_type": "execute_result"
    }
   ],
   "source": [
    "#2 given a np array 'arr', check if its data type is float64\n",
    "arr=np.array([1.5,2.6,3.7])\n",
    "#this array is given in the question \n",
    "\n",
    "arr.dtype=='float64'"
   ]
  },
  {
   "cell_type": "code",
   "execution_count": 4,
   "id": "624235d2-b005-4957-b310-d5cfa004af56",
   "metadata": {},
   "outputs": [
    {
     "data": {
      "text/plain": [
       "array([3.+0.j, 6.+0.j, 5.+0.j])"
      ]
     },
     "execution_count": 4,
     "metadata": {},
     "output_type": "execute_result"
    }
   ],
   "source": [
    "# 3. create a numpy array 'arr' with a data type of complex 128 containing three complex number\n",
    "arr=np.array([3,6,5],dtype='complex128')\n",
    "arr"
   ]
  },
  {
   "cell_type": "code",
   "execution_count": 5,
   "id": "d467d79c-da48-455c-9ebe-4df5bcbf7ee3",
   "metadata": {},
   "outputs": [
    {
     "data": {
      "text/plain": [
       "array([5., 6., 8., 9.], dtype=float32)"
      ]
     },
     "execution_count": 5,
     "metadata": {},
     "output_type": "execute_result"
    }
   ],
   "source": [
    "# 4 convert an existing numpy array 'arr'of integers to float32 data type \n",
    "arr=np.array([5,6,8,9])\n",
    "float32=np.float32(arr)          \n",
    "float32"
   ]
  },
  {
   "cell_type": "code",
   "execution_count": 6,
   "id": "89c2156f-1dc0-47fe-baff-a641da2daa3f",
   "metadata": {},
   "outputs": [
    {
     "data": {
      "text/plain": [
       "array([1.5005, 2.4   , 3.0545], dtype=float32)"
      ]
     },
     "execution_count": 6,
     "metadata": {},
     "output_type": "execute_result"
    }
   ],
   "source": [
    "# 5 given a numpy array arr with float64 data type, convert it to float 32 to reduce decimal precision. \n",
    "arr=np.array([1.500500,2.4000,3.054500])\n",
    "# this is other way to change the data type\n",
    "#arr1=arr.astype(np.float32)        \n",
    "arr1=np.float32(arr)\n",
    "\n",
    "arr1"
   ]
  },
  {
   "cell_type": "code",
   "execution_count": 7,
   "id": "9b1d33e5-6953-4f43-9aad-13896c346cba",
   "metadata": {},
   "outputs": [
    {
     "data": {
      "text/plain": [
       "[(3, 2), 6, dtype('int64')]"
      ]
     },
     "execution_count": 7,
     "metadata": {},
     "output_type": "execute_result"
    }
   ],
   "source": [
    "#6. create a functiion array_attributes that takrs a numpy array as input and return input shape,size,and \n",
    "# data type.\n",
    "def arr_attributes(arr):\n",
    "    arr1=np.array(arr)\n",
    "    shape=arr1.shape\n",
    "    size=arr1.size\n",
    "    dtype=arr1.dtype\n",
    "    return [shape , size, dtype]\n",
    "#print(\"array shape is:\",shape)\n",
    "#print(\"array size:\",size)\n",
    "#print(\"array type is:\",dtype)    \n",
    "arr_attributes([[1,2],\n",
    "                [2,3],\n",
    "                [4,5]])    "
   ]
  },
  {
   "cell_type": "code",
   "execution_count": 8,
   "id": "b04bb623-cf98-4aa2-96d1-4c758464dfb2",
   "metadata": {},
   "outputs": [
    {
     "data": {
      "text/plain": [
       "2"
      ]
     },
     "execution_count": 8,
     "metadata": {},
     "output_type": "execute_result"
    }
   ],
   "source": [
    "#7 create a function array_dimension that takes a numpy array as input and returns its dimensionality.\n",
    "import numpy as np\n",
    "def array_dimension(input_arr):\n",
    "    arr1=np.asanyarray(input_arr)\n",
    "    #n=list[input(\"enter the array element with commas: \")]\n",
    "    return arr1.ndim\n",
    "array_dimension([[1,2,3],[4,5,6],[7,8,9]])"
   ]
  },
  {
   "cell_type": "code",
   "execution_count": 9,
   "id": "e5b86fd3-31cd-49db-8822-8106af1356a3",
   "metadata": {},
   "outputs": [
    {
     "data": {
      "text/plain": [
       "('item_size', 8, 'total_size', 32)"
      ]
     },
     "execution_count": 9,
     "metadata": {},
     "output_type": "execute_result"
    }
   ],
   "source": [
    "#8. design a function item_size_info that takes a numpy array as input and returns the item size and the total size in bytes.\n",
    "def item_size_info(input1_arr):\n",
    "    input_arr=np.array(input1_arr)\n",
    "    \n",
    "    item_size=input_arr.itemsize \n",
    "    \n",
    "    # itemsize = 8, and 4 item size(total size) =32 \n",
    "    \n",
    "    total_size=input_arr.nbytes\n",
    "    return 'item_size',item_size,'total_size', total_size\n",
    "\n",
    "item_size_info([[6,7],[4,7]])    \n",
    "      "
   ]
  },
  {
   "cell_type": "code",
   "execution_count": 10,
   "id": "8b5d5023-dc26-4085-80b4-c1dc51e73343",
   "metadata": {},
   "outputs": [
    {
     "data": {
      "text/plain": [
       "(32, 8)"
      ]
     },
     "execution_count": 10,
     "metadata": {},
     "output_type": "execute_result"
    }
   ],
   "source": [
    "# 9. create a function array_strides that takes a numpy array as input and returns the strides of the array.\n",
    "import numpy as np\n",
    "def array_strides(arr):\n",
    "    return arr.strides\n",
    "array_strides(np.random.randint(1,9,(3,4)))"
   ]
  },
  {
   "cell_type": "code",
   "execution_count": 11,
   "id": "fce1ec84-ef1c-4352-9256-1de96ec9cac9",
   "metadata": {},
   "outputs": [
    {
     "data": {
      "text/plain": [
       "((3, 3), (24, 8))"
      ]
     },
     "execution_count": 11,
     "metadata": {},
     "output_type": "execute_result"
    }
   ],
   "source": [
    "#10 design a function shape_stride_relationship that takes a numpy array as input and returns the shape and stride of the array.\n",
    "def shape_strides_relationship(arr1):\n",
    "    shape=arr1.shape\n",
    "    strides=arr1.strides\n",
    "    return shape, strides\n",
    "shape_strides_relationship(np.random.randint(1,8,(3,3)))"
   ]
  },
  {
   "cell_type": "code",
   "execution_count": 12,
   "id": "e14158ca-8c5a-49dd-9658-2521e5808707",
   "metadata": {},
   "outputs": [
    {
     "data": {
      "text/plain": [
       "array([0, 0, 0, 0, 0])"
      ]
     },
     "execution_count": 12,
     "metadata": {},
     "output_type": "execute_result"
    }
   ],
   "source": [
    "#11. create a fuction 'create_zeros_array' that takes an integer 'n' as input and returns a numpy array of zeros with 'n' elements.\n",
    "def create_zeros_array(n):\n",
    "    arr=np.zeros(n,dtype = 'int')\n",
    "    return arr\n",
    "create_zeros_array(5)"
   ]
  },
  {
   "cell_type": "code",
   "execution_count": 13,
   "id": "02c3ab11-bc8f-45a0-99a8-f90fedc3a154",
   "metadata": {},
   "outputs": [
    {
     "data": {
      "text/plain": [
       "matrix([[1., 1., 1.],\n",
       "        [1., 1., 1.],\n",
       "        [1., 1., 1.],\n",
       "        [1., 1., 1.]])"
      ]
     },
     "execution_count": 13,
     "metadata": {},
     "output_type": "execute_result"
    }
   ],
   "source": [
    "# 12. write a function create ones matrix that takes integers rows and columns as input and generates 2d numpy array filled with ones of size rows*cols\n",
    "def create_ones_matrix(a, b):\n",
    "    arr1=np.ones((a, b))\n",
    "    new_arr=np.mat(arr1)\n",
    "    return new_arr\n",
    "\n",
    "create_ones_matrix(4 ,3)"
   ]
  },
  {
   "cell_type": "code",
   "execution_count": 14,
   "id": "1e1f13a6-785c-4ba9-95ea-c6e99e9c99cc",
   "metadata": {},
   "outputs": [
    {
     "data": {
      "text/plain": [
       "array([1, 3, 5, 7])"
      ]
     },
     "execution_count": 14,
     "metadata": {},
     "output_type": "execute_result"
    }
   ],
   "source": [
    "#13  write a function 'generate_range_array' that takes three integers starts, stop, and step as argumentrs and create a numpy array with a range starting from start, ending at stop (exclusive) and with the specified step.\n",
    "def generate_range_array(start, stop, step):\n",
    "    arr=np.arange(start, stop, step)\n",
    "    return arr\n",
    "generate_range_array(1,9,2)"
   ]
  },
  {
   "cell_type": "code",
   "execution_count": 15,
   "id": "c28278d0-053c-40f6-b772-ad42032e2d1e",
   "metadata": {},
   "outputs": [
    {
     "data": {
      "text/plain": [
       "array([2.5 , 3.16, 3.82, 4.48, 5.14, 5.8 ])"
      ]
     },
     "execution_count": 15,
     "metadata": {},
     "output_type": "execute_result"
    }
   ],
   "source": [
    "# 14.design a function 'generate_linear_space' that takes two floats two float 'start','stop','num' and one 'int' as arguments and generates a numpy arrauy with num equally spaced values between start and stop (inclusive).\n",
    "def generate_linear_space(start,stop,num):\n",
    "    arr=np.linspace(start,stop,num)\n",
    "    \n",
    "    return arr\n",
    "\n",
    "generate_linear_space(2.5,5.8,6)\n",
    "\n",
    "# it takes two float 'start','stop','num' and one 'int'"
   ]
  },
  {
   "cell_type": "code",
   "execution_count": 16,
   "id": "f660a4ec-5971-4ec1-9c5a-87654ebd7e9a",
   "metadata": {},
   "outputs": [
    {
     "data": {
      "text/plain": [
       "array([[1, 0, 0, 0],\n",
       "       [0, 1, 0, 0],\n",
       "       [0, 0, 1, 0],\n",
       "       [0, 0, 0, 1]])"
      ]
     },
     "execution_count": 16,
     "metadata": {},
     "output_type": "execute_result"
    }
   ],
   "source": [
    "# 15. cretae a function 'create_identity_matrix' that takes an intgers 'n' a input and generte a square identity matrix of size 'n*n' using 'numpy.eye',\n",
    "def create_identity_matrix(n):\n",
    "    arr=np.eye(n,dtype = int)\n",
    "    return arr\n",
    "create_identity_matrix(4)"
   ]
  },
  {
   "cell_type": "code",
   "execution_count": 17,
   "id": "9d13b150-bfee-457a-8faa-51b3b98e5d2b",
   "metadata": {},
   "outputs": [
    {
     "data": {
      "text/plain": [
       "array([1, 2, 5, 3, 6, 4, 7, 8, 5])"
      ]
     },
     "execution_count": 17,
     "metadata": {},
     "output_type": "execute_result"
    }
   ],
   "source": [
    "# 16. write a function that takes a python list and converts it into a numpy array.\n",
    "def py_list(input_list1):\n",
    "    \n",
    "    return np.array(input_list1)\n",
    "\n",
    "py_list([1,2,5,3,6,4,7,8,5])    "
   ]
  },
  {
   "cell_type": "code",
   "execution_count": 18,
   "id": "85c933cf-a59c-4074-a7c7-8e95ac4d13bf",
   "metadata": {},
   "outputs": [
    {
     "name": "stdout",
     "output_type": "stream",
     "text": [
      "original array\n",
      "[1 2 3 4 5]\n",
      "\n",
      "view array\n",
      "[1 2 3 4 5]\n",
      "after modifying original array\n",
      "[99  2  3  4  5]\n",
      "\n",
      "after modifying view array\n",
      "[99  2  3  4  5]\n"
     ]
    }
   ],
   "source": [
    "# 17. create a numpy array and demonstrat the use of 'numpy.view' to crete a numpy array.\n",
    "import numpy as np\n",
    "\n",
    "original_array=np.array([1,2,3,4,5])\n",
    "view_array=original_array.view()\n",
    "\n",
    "print(\"original array\")\n",
    "print(original_array)\n",
    "print(\"\\nview array\")\n",
    "print(view_array)\n",
    "#modify the view array\n",
    "\n",
    "view_array[0]=99\n",
    "\n",
    "print(\"after modifying original array\")\n",
    "print(original_array)\n",
    "print(\"\\nafter modifying view array\")\n",
    "print(view_array)\n",
    "\n",
    "# this is a concept of shalow copy."
   ]
  },
  {
   "cell_type": "code",
   "execution_count": 19,
   "id": "26e1d1e7-4309-436d-acce-060bd7104a7a",
   "metadata": {},
   "outputs": [
    {
     "name": "stdout",
     "output_type": "stream",
     "text": [
      "arr1 is :  [[1 5 5]\n",
      " [5 7 9]]\n",
      "arr2 is :  [[1 5 5]]\n",
      "concates :  [[1 5 5]\n",
      " [5 7 9]\n",
      " [1 5 5]]\n"
     ]
    }
   ],
   "source": [
    "# 18   write a function that takes two numpy arrays and concatinates them along a specified axis.\n",
    "arr1=np.array([[1, 5, 5],\n",
    "               [5,7,9]])\n",
    "\n",
    "arr2=np.array([[1, 5, 5]])\n",
    "\n",
    "concates=np.concatenate((arr1, arr2), axis=0)\n",
    "\n",
    "print('arr1 is : ',arr1)\n",
    "print('arr2 is : ',arr2)\n",
    "print('concates : ',concates)"
   ]
  },
  {
   "cell_type": "code",
   "execution_count": 20,
   "id": "2b9cf8e3-78ac-41be-8bfd-79e53230c699",
   "metadata": {},
   "outputs": [
    {
     "name": "stdout",
     "output_type": "stream",
     "text": [
      "array1\n",
      "[[2 3]\n",
      " [4 5]\n",
      " [6 7]]\n",
      "\n",
      "array2\n",
      "[[2 3 9]\n",
      " [4 8 5]\n",
      " [9 4 5]]\n",
      "\n",
      "concate_array\n",
      "[[2 3 2 3 9]\n",
      " [4 5 4 8 5]\n",
      " [6 7 9 4 5]]\n"
     ]
    }
   ],
   "source": [
    "# 19 create to numpy array  with diffferent shapes and concatenates them horizonttallly using numpy\n",
    "arr1=np.array([[2,3],[4,5],[6,7]])\n",
    "arr2=np.array([[2,3,9],[4,8,5],[9,4,5]])\n",
    "\n",
    "concate_array=np.concatenate((arr1,arr2),axis=1)\n",
    "\n",
    "print('array1')\n",
    "print(arr1)\n",
    "print(\"\\narray2\")\n",
    "print(arr2)\n",
    "print(\"\\nconcate_array\")\n",
    "print(concate_array)\n"
   ]
  },
  {
   "cell_type": "code",
   "execution_count": 21,
   "id": "95a0a2e5-575e-41ee-8f09-90f5a7735018",
   "metadata": {},
   "outputs": [
    {
     "data": {
      "text/plain": [
       "array([[1, 2, 3],\n",
       "       [4, 5, 6],\n",
       "       [7, 8, 9]])"
      ]
     },
     "execution_count": 21,
     "metadata": {},
     "output_type": "execute_result"
    }
   ],
   "source": [
    "#20 Write a function that vertically stacks multiple numpy arrays given as a list.\n",
    "def vertically_stacks(array):\n",
    "    return np.vstack(array)\n",
    "vertically_stacks([(np.array([1,2,3])),(np.array([4,5,6])),(np.array([7,8,9]))])\n"
   ]
  },
  {
   "cell_type": "code",
   "execution_count": 22,
   "id": "c513ac25-7187-4f94-8876-17611b36043e",
   "metadata": {},
   "outputs": [
    {
     "data": {
      "text/plain": [
       "array([1, 3, 5, 7])"
      ]
     },
     "execution_count": 22,
     "metadata": {},
     "output_type": "execute_result"
    }
   ],
   "source": [
    "# 21. write a python function using numpy to create an array of integers within a specified range (inclusive) with a given step size.\n",
    "def create_array_integers(start,end,step):\n",
    "    return np.arange(start,end,step)\n",
    "create_array_integers(1,8,2)"
   ]
  },
  {
   "cell_type": "code",
   "execution_count": 23,
   "id": "67d531fd-72f8-4738-ba5e-4f74bf8302ec",
   "metadata": {},
   "outputs": [
    {
     "data": {
      "text/plain": [
       "array([0.        , 0.11111111, 0.22222222, 0.33333333, 0.44444444,\n",
       "       0.55555556, 0.66666667, 0.77777778, 0.88888889, 1.        ])"
      ]
     },
     "execution_count": 23,
     "metadata": {},
     "output_type": "execute_result"
    }
   ],
   "source": [
    "# 22.write a python function using numpy to generate an arry of 10 equally spaced values between 0 and 1 (inclusive)\n",
    "def equally_spaced_array(start,end,vlues):\n",
    "    return np.linspace(start,end,vlues)\n",
    "equally_spaced_array(0,1,10)"
   ]
  },
  {
   "cell_type": "code",
   "execution_count": 24,
   "id": "8950920c-4ffb-4ad3-8524-9bfb2abd1106",
   "metadata": {},
   "outputs": [
    {
     "data": {
      "text/plain": [
       "array([   1.        ,    5.62341325,   31.6227766 ,  177.827941  ,\n",
       "       1000.        ])"
      ]
     },
     "execution_count": 24,
     "metadata": {},
     "output_type": "execute_result"
    }
   ],
   "source": [
    "#23.write a python function using numpy to create an array of 5 logerithmically spaced values between 1 and 1000(inclusive).\n",
    "def  logorithmically_spaced_values(start,stop,num):\n",
    "    log1=np.log10(start)\n",
    "    log2=np.log10(stop)\n",
    "    return np.logspace(log1,log2,num)\n",
    "logorithmically_spaced_values(1,1000,5)"
   ]
  },
  {
   "cell_type": "code",
   "execution_count": 25,
   "id": "07243320-b19b-45cb-88c5-2ad52ef5c037",
   "metadata": {},
   "outputs": [
    {
     "data": {
      "text/html": [
       "<div>\n",
       "<style scoped>\n",
       "    .dataframe tbody tr th:only-of-type {\n",
       "        vertical-align: middle;\n",
       "    }\n",
       "\n",
       "    .dataframe tbody tr th {\n",
       "        vertical-align: top;\n",
       "    }\n",
       "\n",
       "    .dataframe thead th {\n",
       "        text-align: right;\n",
       "    }\n",
       "</style>\n",
       "<table border=\"1\" class=\"dataframe\">\n",
       "  <thead>\n",
       "    <tr style=\"text-align: right;\">\n",
       "      <th></th>\n",
       "      <th>0</th>\n",
       "      <th>1</th>\n",
       "      <th>2</th>\n",
       "    </tr>\n",
       "  </thead>\n",
       "  <tbody>\n",
       "    <tr>\n",
       "      <th>0</th>\n",
       "      <td>25</td>\n",
       "      <td>75</td>\n",
       "      <td>98</td>\n",
       "    </tr>\n",
       "    <tr>\n",
       "      <th>1</th>\n",
       "      <td>100</td>\n",
       "      <td>1</td>\n",
       "      <td>31</td>\n",
       "    </tr>\n",
       "    <tr>\n",
       "      <th>2</th>\n",
       "      <td>38</td>\n",
       "      <td>1</td>\n",
       "      <td>22</td>\n",
       "    </tr>\n",
       "    <tr>\n",
       "      <th>3</th>\n",
       "      <td>80</td>\n",
       "      <td>51</td>\n",
       "      <td>17</td>\n",
       "    </tr>\n",
       "    <tr>\n",
       "      <th>4</th>\n",
       "      <td>21</td>\n",
       "      <td>55</td>\n",
       "      <td>83</td>\n",
       "    </tr>\n",
       "  </tbody>\n",
       "</table>\n",
       "</div>"
      ],
      "text/plain": [
       "     0   1   2\n",
       "0   25  75  98\n",
       "1  100   1  31\n",
       "2   38   1  22\n",
       "3   80  51  17\n",
       "4   21  55  83"
      ]
     },
     "execution_count": 25,
     "metadata": {},
     "output_type": "execute_result"
    }
   ],
   "source": [
    "#24.Create a pandas dataframe using a numpy array that contains 5 rows and 3 columns, where the values are random integers between 1 and 100.\n",
    "import pandas as pd\n",
    "df=pd.DataFrame(np.random.randint(1,101,(5,3)))\n",
    "df"
   ]
  },
  {
   "cell_type": "code",
   "execution_count": 26,
   "id": "1d626598-ef72-4631-b91e-fe03ab3e5784",
   "metadata": {},
   "outputs": [
    {
     "data": {
      "text/plain": [
       "0     6\n",
       "1     7\n",
       "2     0\n",
       "3     0\n",
       "4    10\n",
       "Name: B, dtype: int64"
      ]
     },
     "execution_count": 26,
     "metadata": {},
     "output_type": "execute_result"
    }
   ],
   "source": [
    "#25.write a function that takes a pandas dataframe and replace all negaative values in a specific column with zeros. use numpy operation within the pndas dataframe.\n",
    "\n",
    "data={'A': [1,-2, 3, 4,-5],\n",
    "      'B': [6, 7,-8,-9,10]}\n",
    "def replace_negative_with_zeros(df,column_name):\n",
    "    df[column_name] = np.where(df[column_name]<0, 0 ,df[column_name])\n",
    "    return  df[column_name]\n",
    "replace_negative_with_zeros(pd.DataFrame(data),'B')"
   ]
  },
  {
   "cell_type": "code",
   "execution_count": 27,
   "id": "1c0555ab-5d77-4661-9421-1095eb95dd9e",
   "metadata": {},
   "outputs": [
    {
     "data": {
      "text/plain": [
       "30"
      ]
     },
     "execution_count": 27,
     "metadata": {},
     "output_type": "execute_result"
    }
   ],
   "source": [
    "#26 access the third element from the given numpy array\n",
    "arr=np.array([10,20,30,40,50])  \n",
    "# this arr given in the question\n",
    "arr[2]\n"
   ]
  },
  {
   "cell_type": "code",
   "execution_count": 28,
   "id": "db94e7fc-fd81-4511-9738-a7dbcd47a214",
   "metadata": {},
   "outputs": [
    {
     "data": {
      "text/plain": [
       "6"
      ]
     },
     "execution_count": 28,
     "metadata": {},
     "output_type": "execute_result"
    }
   ],
   "source": [
    "# 27.retrieve the element at index (1,2) from the 2d numpy array.\n",
    "arr=np.array([[1,2,3,],\n",
    "              [4,5,6,],\n",
    "              [7,8,9]])\n",
    "# retrieve the element at index (1,2) from the 2D numpy array\n",
    "new_arr=arr[1, 2]\n",
    "new_arr\n"
   ]
  },
  {
   "cell_type": "code",
   "execution_count": 29,
   "id": "9c347297-3cba-4bab-b76e-87246877f6fb",
   "metadata": {},
   "outputs": [
    {
     "data": {
      "text/plain": [
       "array([ 8, 10,  7])"
      ]
     },
     "execution_count": 29,
     "metadata": {},
     "output_type": "execute_result"
    }
   ],
   "source": [
    "#28. using boolean indexing, extract elements greater than 5 from the given numpy array.\n",
    "arr=np.array ([3,8,2,10,5,7])\n",
    "extract_aray=arr[arr>5]\n",
    "extract_aray"
   ]
  },
  {
   "cell_type": "code",
   "execution_count": 30,
   "id": "4f719425-ca53-4e89-81e3-6cfd79ec734b",
   "metadata": {},
   "outputs": [
    {
     "data": {
      "text/plain": [
       "array([3, 4, 5, 6])"
      ]
     },
     "execution_count": 30,
     "metadata": {},
     "output_type": "execute_result"
    }
   ],
   "source": [
    "#29. perform basic slicing to extrct elements from index 2 to 5 (inclusive) from the given numpy array.\n",
    "arr=np.array([1,2,3,4,5,6,7,8,9])\n",
    "arr[2:6]\n"
   ]
  },
  {
   "cell_type": "code",
   "execution_count": 31,
   "id": "1bc80820-2376-4822-b505-411f140a3d31",
   "metadata": {},
   "outputs": [
    {
     "data": {
      "text/plain": [
       "array([[2, 3],\n",
       "       [5, 6]])"
      ]
     },
     "execution_count": 31,
     "metadata": {},
     "output_type": "execute_result"
    }
   ],
   "source": [
    "#30. slice the 2d numpy array to extract the sub-array '[[2,3],[5,6]]' from the given array.\n",
    "arr_2D=np.array([[1, 2, 3],\n",
    "                 [4, 5, 6],\n",
    "                 [7, 8, 9]])\n",
    "arr_2D[0:2,1:3]"
   ]
  },
  {
   "cell_type": "code",
   "execution_count": 32,
   "id": "43036fb3-3219-44ac-b1c8-dd9c9244bae1",
   "metadata": {},
   "outputs": [
    {
     "data": {
      "text/plain": [
       "array([2, 6, 7])"
      ]
     },
     "execution_count": 32,
     "metadata": {},
     "output_type": "execute_result"
    }
   ],
   "source": [
    "#31. write a numpy function to extarct elements in specific order from a gievn 2d array based on indices provided in another array.\n",
    " \n",
    "    \n",
    "import numpy as np\n",
    "array=np.array([[1,2,3],\n",
    "                [4,5,6],\n",
    "                [7,8,9]])    \n",
    " \n",
    "indices=[[0,1],[1,2],[2,0]]\n",
    "    \n",
    "def extract_elements(array, indices):\n",
    "    indices=np.array(indices)\n",
    "    if indices.shape[1] != 2:\n",
    "        raise valueError('indices have must shape(n,2)')\n",
    "        \n",
    "# advanced indexing to extarct elemsnts\n",
    "    extact_elements= array[indices[:, 0 ], indices [:, 1]]\n",
    "    return extact_elements\n",
    "extract_elements(array,indices)    "
   ]
  },
  {
   "cell_type": "code",
   "execution_count": 33,
   "id": "b62d8936-1c74-4ea9-9e2f-85b97b3d2c19",
   "metadata": {},
   "outputs": [
    {
     "data": {
      "text/plain": [
       "array([ 6,  8,  9, 23])"
      ]
     },
     "execution_count": 33,
     "metadata": {},
     "output_type": "execute_result"
    }
   ],
   "source": [
    "# 32. create a numpy function that filters elements greater than a threshold from a given 1d array using boolean indexing\n",
    "import numpy as np\n",
    "def filter_elements(array,threshold):\n",
    "    filtered_elements=array[array>threshold]\n",
    "    return filtered_elements\n",
    "filter_elements(np.array([1,2,3,6,5,4,8,9,23]),5)"
   ]
  },
  {
   "cell_type": "code",
   "execution_count": 34,
   "id": "154a5dc8-80b0-436d-a29c-59348d48cfd0",
   "metadata": {},
   "outputs": [
    {
     "data": {
      "text/plain": [
       "array([ 6, 16, 20])"
      ]
     },
     "execution_count": 34,
     "metadata": {},
     "output_type": "execute_result"
    }
   ],
   "source": [
    "# 33. incomplered \n",
    "\n",
    "# 3D arrayy\n",
    "array=np.array([[[1,2,3],\n",
    "                 [4,5,6],\n",
    "                 [7,8,9]],\n",
    "                \n",
    "                [[10,11,12],\n",
    "                 [13,14,15],\n",
    "                 [16,17,18]],\n",
    "                \n",
    "                [[19,20,21],\n",
    "                 [22,23,24],\n",
    "                 [25,26,27]]])\n",
    "\n",
    "# 3 indices\n",
    "x_indices=[0,1,2]\n",
    "y_indices=[1,2,0]\n",
    "z_indices=[2,0,1]\n",
    "\n",
    "def  extract_elements(array,x_indices,y_indices,z_indices):\n",
    "    x_indices=np.array(x_indices)\n",
    "    y_indices=np.array(y_indices)\n",
    "    z_indices=np.array(z_indices)\n",
    "    \n",
    "    if not (x_indices.shape == y_indices.shape == z_indices.shape):\n",
    "        raise ValueError('all indices array must have the same shape')\n",
    "    \n",
    "    extacted_elements=array[x_indices,y_indices,z_indices]\n",
    "    return extacted_elements\n",
    "\n",
    "extract_elements(array,x_indices,y_indices,z_indices)   "
   ]
  },
  {
   "cell_type": "code",
   "execution_count": 35,
   "id": "1f19a4a8-36bd-49f1-af62-6caa2fa8d713",
   "metadata": {},
   "outputs": [
    {
     "data": {
      "text/plain": [
       "[3, 4, 5, 6, 4, 6]"
      ]
     },
     "execution_count": 35,
     "metadata": {},
     "output_type": "execute_result"
    }
   ],
   "source": [
    "#34. write a numpy function that returns elements from an array where both two conditions are satisfied using boolean indexing.\n",
    "def function_returns(val, condition1, condition2):\n",
    "    arr=np.array(val)\n",
    "    elements= arr[arr<condition1]\n",
    "    elements2=elements[elements>condition2]\n",
    "    return list(elements2)\n",
    "function_returns([2,3,1,4,5,6,4,7,89,0,7,6,43,8,79],7,2)"
   ]
  },
  {
   "cell_type": "code",
   "execution_count": 36,
   "id": "604c9e44-5c92-48c4-b126-19201749d2fa",
   "metadata": {},
   "outputs": [
    {
     "data": {
      "text/plain": [
       "array([2, 6, 7])"
      ]
     },
     "execution_count": 36,
     "metadata": {},
     "output_type": "execute_result"
    }
   ],
   "source": [
    "#35.Create a python function that extarct elements from a 2D array using row an colmn indices provided in a seprate array.\n",
    "\n",
    "array=np.array([[1,2,3],\n",
    "                [4,5,6],\n",
    "                [7,8,9]])\n",
    "row_indices=[0,1,2]\n",
    "col_indices=[1,2,0]\n",
    "def extact_elements_2D(array,row_indices, col_indices):\n",
    "    row_indices=np.array(row_indices)\n",
    "    col_indices=np.array(col_indices)\n",
    "    extract_elements=array[row_indices, col_indices]\n",
    "    return extract_elements\n",
    "extact_elements_2D(array,row_indices, col_indices)"
   ]
  },
  {
   "cell_type": "code",
   "execution_count": 37,
   "id": "f801c817-e864-475c-abed-0b2e4bb9b022",
   "metadata": {},
   "outputs": [
    {
     "data": {
      "text/plain": [
       "array([[6., 6., 6.],\n",
       "       [6., 6., 6.],\n",
       "       [6., 6., 6.]])"
      ]
     },
     "execution_count": 37,
     "metadata": {},
     "output_type": "execute_result"
    }
   ],
   "source": [
    "# 36. given an array arr of shape (3,3), add a scaler value of 5 to each element using numpy broadcasting.\n",
    "arr=np.ones((3,3))\n",
    "scaler=5\n",
    "arr+scaler"
   ]
  },
  {
   "cell_type": "code",
   "execution_count": 38,
   "id": "8985fd5d-f930-4efe-9a5a-a20ca206762b",
   "metadata": {
    "tags": []
   },
   "outputs": [
    {
     "data": {
      "text/plain": [
       "array([[ 7, 14, 21, 28],\n",
       "       [40, 48, 56, 64],\n",
       "       [72, 81, 90, 99]])"
      ]
     },
     "execution_count": 38,
     "metadata": {},
     "output_type": "execute_result"
    }
   ],
   "source": [
    "#37. consider two arrayy arr1 of shape(1,3) and arr2 of shape(3,4). multiply each row of arr2 by the coresponding element of arr1 using numpy brodcasting.\n",
    "\n",
    "#given array\n",
    "arr=np.array([[7, 8, 9]])\n",
    "# arr shape with(1,3)\n",
    "\n",
    "arr1=arr.T\n",
    "# transpose array\n",
    "\n",
    "arr2=np.array([[1,2,3,4],\n",
    "               [5,6,7,8],\n",
    "               [8,9,10,11]])\n",
    "# multiply in each row of arr2 with each element of arr1\n",
    "arr2*arr1"
   ]
  },
  {
   "cell_type": "code",
   "execution_count": 39,
   "id": "8848f399-8ef3-458a-9a71-20b150489e61",
   "metadata": {},
   "outputs": [
    {
     "data": {
      "text/plain": [
       "array([[ 2,  6,  8],\n",
       "       [ 4,  6, 11],\n",
       "       [10,  8, 11],\n",
       "       [ 7, 10, 13]])"
      ]
     },
     "execution_count": 39,
     "metadata": {},
     "output_type": "execute_result"
    }
   ],
   "source": [
    "# 38. given a 1D array arr1 of shape(1,4) and 2D array of arr2 of shape (4,3), add arr1 to each row of arr2 using numpy broadcasting.\n",
    "\n",
    "#given array arr\n",
    "arr=np.array([1,2,3,4])\n",
    "#  transpose axis in 1D\n",
    "arr1=arr[:,np.newaxis]\n",
    "\n",
    "\n",
    "arr2=np.array([[1, 5, 7],\n",
    "               [2, 4, 9],\n",
    "               [7, 5, 8],\n",
    "               [3, 6, 9]])\n",
    "\n",
    "arr1+arr2"
   ]
  },
  {
   "cell_type": "code",
   "execution_count": 40,
   "id": "fa92f019-b835-4226-9364-b228913a01c5",
   "metadata": {},
   "outputs": [
    {
     "name": "stdout",
     "output_type": "stream",
     "text": [
      "array1 [[6]\n",
      " [1]\n",
      " [2]]\n",
      "\n",
      "array2 [[6 6 7]]\n"
     ]
    },
    {
     "data": {
      "text/plain": [
       "array([[12, 12, 13],\n",
       "       [ 7,  7,  8],\n",
       "       [ 8,  8,  9]])"
      ]
     },
     "execution_count": 40,
     "metadata": {},
     "output_type": "execute_result"
    }
   ],
   "source": [
    "#39. consider two arrays arr1 of shape(3,1) and arr2 of shape (1,3). add these arrays using numpy broadcasting.\n",
    "arr1=np.random.randint(1,8,(3,1))\n",
    "arr2=np.random.randint(1,8,(1,3))\n",
    "print ('array1',np.array(arr1))\n",
    "print('\\narray2',np.array(arr2))\n",
    "arr1+arr2"
   ]
  },
  {
   "cell_type": "code",
   "execution_count": 41,
   "id": "05bdbcb3-3998-4e10-94c0-bca8197c6381",
   "metadata": {},
   "outputs": [
    {
     "name": "stdout",
     "output_type": "stream",
     "text": [
      "array 1 is : \n",
      " [[5 7 2]\n",
      " [6 7 8]]\n",
      "\n",
      "array 2 after reshaping is : \n",
      " [[[3]\n",
      "  [1]]\n",
      "\n",
      " [[4]\n",
      "  [2]]]\n",
      "\n",
      "multiplication is : \n",
      " [[[15 21  6]\n",
      "  [ 6  7  8]]\n",
      "\n",
      " [[20 28  8]\n",
      "  [12 14 16]]]\n"
     ]
    }
   ],
   "source": [
    "#40 given array arr1 of shape (2,3) and arr2 of shape(2,2), perform multipliction using numpy broadcasting. handle the shape incompatibility.\n",
    "\n",
    "arr1=np.random.randint(1,9,(2,3))\n",
    "#arr1.reshape(2,2,3)\n",
    "\n",
    "arr2=np.random.randint(1,9,(2,2))\n",
    "# reshaping the array\n",
    "new_arr2=arr2.reshape(2,2,1)\n",
    "\n",
    "multiplication=arr1*new_arr2\n",
    "\n",
    "print('array 1 is : \\n', arr1)\n",
    "print('\\narray 2 after reshaping is : \\n', new_arr2)\n",
    "print('\\nmultiplication is : \\n',multiplication)"
   ]
  },
  {
   "cell_type": "code",
   "execution_count": 42,
   "id": "ee48a3e0-740e-45f2-a60b-3227aa2f9ba0",
   "metadata": {},
   "outputs": [
    {
     "data": {
      "text/plain": [
       "array([2.5, 3.5, 4.5])"
      ]
     },
     "execution_count": 42,
     "metadata": {},
     "output_type": "execute_result"
    }
   ],
   "source": [
    "#41 calculate the column_wise mean for the given array\n",
    "# given array is\n",
    "arr=np.array([[1,2,3],\n",
    "              [4,5,6]])\n",
    "\n",
    "np.mean(arr,axis=0)"
   ]
  },
  {
   "cell_type": "code",
   "execution_count": 43,
   "id": "d6ad9b79-5f19-41b2-bd8d-50d7cf75768f",
   "metadata": {},
   "outputs": [
    {
     "name": "stdout",
     "output_type": "stream",
     "text": [
      "max value of 1st row: 3\n",
      "max value of 2nd row: 6\n"
     ]
    }
   ],
   "source": [
    "#42. find maximum value in each row of the given array:\n",
    "# given array is\n",
    "arr=np.array([[1,2,3],\n",
    "              [4,5,6]])\n",
    "\n",
    "print(\"max value of 1st row:\",np.max(arr[0]))\n",
    "print(\"max value of 2nd row:\",np.max(arr[1]))"
   ]
  },
  {
   "cell_type": "code",
   "execution_count": 44,
   "id": "f6093143-dc0d-4294-bbce-7cf23844dad7",
   "metadata": {},
   "outputs": [
    {
     "data": {
      "text/plain": [
       "array([1, 1, 1])"
      ]
     },
     "execution_count": 44,
     "metadata": {},
     "output_type": "execute_result"
    }
   ],
   "source": [
    "# 43.for the given array, find indices of maximum value in each column.\n",
    "# given array arr=np.array([[1,2,3],[4,5,6]])\n",
    "\n",
    "arr=np.array([[1,2,3],\n",
    "              [4,5,6]])\n",
    "\n",
    "# maximum element in each columnn\n",
    "np.argmax(arr,axis=0)"
   ]
  },
  {
   "cell_type": "code",
   "execution_count": 45,
   "id": "2b836be8-435d-44bb-9748-2c965f49e26f",
   "metadata": {},
   "outputs": [
    {
     "data": {
      "text/plain": [
       "array([[ 1,  3,  6],\n",
       "       [ 4,  9, 15]])"
      ]
     },
     "execution_count": 45,
     "metadata": {},
     "output_type": "execute_result"
    }
   ],
   "source": [
    "# 44.for the given array, apply custom function to calculate moving sum along rows.\n",
    "\n",
    "# given array \n",
    "#arr=np.array([[1,2,3],[4,5,6]])\n",
    "\n",
    "def cum_sum(row):\n",
    "    return np.cumsum(row,axis=1)\n",
    "cum_sum([[1,2,3], [4,5,6]])"
   ]
  },
  {
   "cell_type": "code",
   "execution_count": 46,
   "id": "81805716-1858-4cd4-9c74-30285dab8676",
   "metadata": {},
   "outputs": [
    {
     "name": "stdout",
     "output_type": "stream",
     "text": [
      "[False False False]\n"
     ]
    }
   ],
   "source": [
    "# 45.in the given array, check if all elements in ech columns are even.\n",
    "# given array is  >>>  arr=np.array([[2,4,6],[3,5,7]])\n",
    "\n",
    "arr=np.array([[2,4,6],[3,5,7]])\n",
    "even_check=(arr % 2 == 0 )\n",
    "all_check=np.all(even_check, axis=0)\n",
    "\n",
    "print(all_check)\n",
    "\n",
    "# the output is"
   ]
  },
  {
   "cell_type": "code",
   "execution_count": 47,
   "id": "187a5283-a610-4281-a96a-f4ac2d5fbaa7",
   "metadata": {},
   "outputs": [
    {
     "data": {
      "text/plain": [
       "matrix([[1, 2],\n",
       "        [3, 4],\n",
       "        [5, 6]])"
      ]
     },
     "execution_count": 47,
     "metadata": {},
     "output_type": "execute_result"
    }
   ],
   "source": [
    "# 46. given a numpy array arr, reshape it into a matrix of dimentions 'm' rows and 'n' columns. return the reshape matrix.\n",
    "#the given array is \n",
    "\n",
    "original_array=np. array([1,2,3,4,5,6])\n",
    "\n",
    "np.matrix(original_array.reshape(3,2))\n",
    "\n",
    "#(rows) m=3, (colunms) n=2"
   ]
  },
  {
   "cell_type": "code",
   "execution_count": 48,
   "id": "5e814328-a898-4965-a0b0-34ce0683b0c8",
   "metadata": {},
   "outputs": [
    {
     "data": {
      "text/plain": [
       "array([[1, 2, 3, 4, 5, 6]])"
      ]
     },
     "execution_count": 48,
     "metadata": {},
     "output_type": "execute_result"
    }
   ],
   "source": [
    "# 47. create  function that takes a matrix as input and returns the flattened array.\n",
    "# given matrix is\n",
    "\n",
    "input_matrix = np.matrix([[1,2,3],[4,5,6]])\n",
    "def mat_func(input_matrix):\n",
    "    \n",
    "    flatten_mat= np.array(input_matrix.flatten())\n",
    "    \n",
    "    return flatten_mat\n",
    "\n",
    "mat_func(input_matrix)\n"
   ]
  },
  {
   "cell_type": "code",
   "execution_count": 49,
   "id": "8b098161-3b00-470f-b552-d3069eeeac7f",
   "metadata": {},
   "outputs": [
    {
     "data": {
      "text/plain": [
       "array([[1, 2],\n",
       "       [3, 4],\n",
       "       [5, 6],\n",
       "       [7, 8]])"
      ]
     },
     "execution_count": 49,
     "metadata": {},
     "output_type": "execute_result"
    }
   ],
   "source": [
    "#48.write a function that concatentes two given arrays along a specified axis.\n",
    "\n",
    "#given two arrays\n",
    "array1=np.array([[1,2], [3,4]])\n",
    "array2=np.array([[5,6], [7,8]])\n",
    "\n",
    "np.concatenate((array1,array2), axis=0)\n",
    "\n",
    "# we can also do for this axis\n",
    "#np.concatenate((array1,array2), axis=1)\n"
   ]
  },
  {
   "cell_type": "code",
   "execution_count": 50,
   "id": "26e69136-b18d-4355-8076-443985d4c006",
   "metadata": {},
   "outputs": [
    {
     "data": {
      "text/plain": [
       "[array([[1, 2, 3]]), array([[4, 5, 6]]), array([[7, 8, 9]])]"
      ]
     },
     "execution_count": 50,
     "metadata": {},
     "output_type": "execute_result"
    }
   ],
   "source": [
    "# 49. create a function that splits an array into multiple sub arrays along specified axis.\n",
    "\n",
    "# given array\n",
    "original_array= np.array([[1,2,3],[4,5,6],[7,8,9]])\n",
    "arr=np.split(original_array, 3 , axis=0)\n",
    "\n",
    "# 3 is a no.of elements that you ends the split\n",
    "arr"
   ]
  },
  {
   "cell_type": "code",
   "execution_count": 51,
   "id": "50667cc8-f452-4a05-9503-7f8df598580b",
   "metadata": {},
   "outputs": [
    {
     "data": {
      "text/plain": [
       "array([ 1, 10, 11,  4,  5])"
      ]
     },
     "execution_count": 51,
     "metadata": {},
     "output_type": "execute_result"
    }
   ],
   "source": [
    "#50. write a function that inserts and then deletes elements from a given array at specified indices.\n",
    "# given arrays\n",
    "original_array=np.array([1,2,3,4,5])\n",
    "indices_to_insert=[2,4]\n",
    "values_to_insert=[10,11]\n",
    "indices_to_delete=[1,3]\n",
    "\n",
    "def insert_and_delete_elements(original_array, indices_to_insert, values_to_insert, indices_to_delete):\n",
    "    modified_array=original_array.tolist()\n",
    "    \n",
    "    for index, value in zip(indices_to_insert, values_to_insert):\n",
    "        modified_array.insert(index, value)\n",
    "    \n",
    "    for index in sorted(indices_to_delete, reverse=True):\n",
    "        del modified_array[index]\n",
    "        \n",
    "    modified_array=np.array(modified_array)\n",
    "    \n",
    "    return modified_array\n",
    "\n",
    "insert_and_delete_elements(original_array, indices_to_insert, values_to_insert, indices_to_delete)"
   ]
  },
  {
   "cell_type": "code",
   "execution_count": 52,
   "id": "0a2cdab3-de12-4024-8424-1f6aefb2f581",
   "metadata": {},
   "outputs": [
    {
     "name": "stdout",
     "output_type": "stream",
     "text": [
      "[0 0 7 5 1 0 5 2 1 6]\n",
      "\n",
      " [ 1  2  3  4  5  6  7  8  9 10]\n",
      "\n",
      "after alement wise addition\n"
     ]
    },
    {
     "data": {
      "text/plain": [
       "array([ 1,  2, 10,  9,  6,  6, 12, 10, 10, 16])"
      ]
     },
     "execution_count": 52,
     "metadata": {},
     "output_type": "execute_result"
    }
   ],
   "source": [
    "# 51. create a numpy array arr1 with random integers and another array arr2 with integers from 1 to 10. perfrom element wise addition between arr1 and arr2.\n",
    "import numpy as np\n",
    "arr1=np.random.randint(0,12,10)\n",
    "print(arr1)\n",
    "\n",
    "arr2=np.arange(1,11)\n",
    "print('\\n',arr2)\n",
    "\n",
    "print('\\nafter alement wise addition')\n",
    "arr1+arr2"
   ]
  },
  {
   "cell_type": "code",
   "execution_count": 53,
   "id": "a2c34f99-54b9-4c35-b2b9-aeda4d017acb",
   "metadata": {},
   "outputs": [
    {
     "name": "stdout",
     "output_type": "stream",
     "text": [
      "array1\n",
      " [10  9  8  7  6  5  4  3  2  1]\n",
      "\n",
      "array2\n",
      " [ 1  2  3  4  5  6  7  8  9 10]\n",
      "\n",
      "\n"
     ]
    },
    {
     "data": {
      "text/plain": [
       "array([ 9,  7,  5,  3,  1, -1, -3, -5, -7, -9])"
      ]
     },
     "execution_count": 53,
     "metadata": {},
     "output_type": "execute_result"
    }
   ],
   "source": [
    "#52.genate a numpy array arr1 with squential integers from 10 to 1 and another array arr2 with integers from 1 to 10. subtrct arr2 from arr1 element wise.\n",
    "arr1=np.arange(10,0,-1)\n",
    "arr2=np.arange(1,11)\n",
    "print('array1\\n',arr1)\n",
    "print('\\narray2\\n',arr2)\n",
    "print('\\n')\n",
    "arr1-arr2"
   ]
  },
  {
   "cell_type": "code",
   "execution_count": 54,
   "id": "72059d3c-237c-45e0-8f0f-97c89ae11c40",
   "metadata": {},
   "outputs": [
    {
     "name": "stdout",
     "output_type": "stream",
     "text": [
      "[6 5 2 3 4] \n",
      "\n",
      "[1 2 3 4 5] \n",
      "\n",
      "the multiplication is\n"
     ]
    },
    {
     "data": {
      "text/plain": [
       "array([ 6, 10,  6, 12, 20])"
      ]
     },
     "execution_count": 54,
     "metadata": {},
     "output_type": "execute_result"
    }
   ],
   "source": [
    "#53.create a numpy array arr1 with random integers and another array arr2 with intgers from 1 to 5. perform elemnt wise multiplication between arr1 and arr2.\n",
    "arr1=np.random.randint(0,10,5)\n",
    "arr2=np.arange(1,6)\n",
    "print(arr1,'\\n')\n",
    "print(arr2,'\\n')\n",
    "print('the multiplication is')\n",
    "arr1*arr2"
   ]
  },
  {
   "cell_type": "code",
   "execution_count": 55,
   "id": "aea23da9-307e-4a0b-a8dd-f5d4bf6b02ad",
   "metadata": {},
   "outputs": [
    {
     "name": "stdout",
     "output_type": "stream",
     "text": [
      "array1\n",
      " [ 2  4  6  8 10]\n",
      "array2\n",
      " [1 2 3 4 5]\n",
      "\n",
      "the division is\n"
     ]
    },
    {
     "data": {
      "text/plain": [
       "array([2., 2., 2., 2., 2.])"
      ]
     },
     "execution_count": 55,
     "metadata": {},
     "output_type": "execute_result"
    }
   ],
   "source": [
    "#54. Generate a numpy array arr1 with even integers from 2 to 10 and another array arr2 with integers from 1 to 5. perform element_wise division of arr1 by arr2.\n",
    "arr1=np.arange(2,11,2)\n",
    "arr2=np.arange(1,6)\n",
    "print('array1\\n',arr1)\n",
    "print('array2\\n',arr2)\n",
    "print('\\nthe division is')\n",
    "arr1/arr2"
   ]
  },
  {
   "cell_type": "code",
   "execution_count": 56,
   "id": "30cd8119-60ec-450a-8664-0610baefb37c",
   "metadata": {},
   "outputs": [
    {
     "name": "stdout",
     "output_type": "stream",
     "text": [
      "array1 : \n",
      " [1 2 3 4 5]\n",
      "\n",
      "array2 : \n",
      " [5 4 3 2 1]\n",
      "\n",
      "element_wise power is : \n",
      " [ 1 16 27 16  5]\n"
     ]
    }
   ],
   "source": [
    "#55.Create a numpy array arr1 with integers from 1 to 5 and another array arr2 with the same numbers reversed. calculate the exponatial of arr1 raised to the power of arr2 elemnet_wise.\n",
    "arr1=np.arange(1,6)\n",
    "arr2=arr1[::-1]\n",
    "power=np.power(arr1,arr2)\n",
    "print('array1 : \\n',arr1)\n",
    "print('\\narray2 : \\n',arr2)\n",
    "print('\\nelement_wise power is : \\n',power)"
   ]
  },
  {
   "cell_type": "code",
   "execution_count": 57,
   "id": "3f294535-3de1-4b84-931e-098ff09ea6ad",
   "metadata": {},
   "outputs": [
    {
     "data": {
      "text/plain": [
       "3"
      ]
     },
     "execution_count": 57,
     "metadata": {},
     "output_type": "execute_result"
    }
   ],
   "source": [
    "# 56. write a function that count the occurences of a specific substring within a numpy array of strings.\n",
    "# given array\n",
    "#arr=np.array(['hello', 'world', 'hello', 'numpy', 'hello'])\n",
    "\n",
    "def count_occurence(arr,substring):\n",
    "    count=np.char.count(arr,substring)\n",
    "    total_count=np.sum(count)\n",
    "    return total_count\n",
    "\n",
    "count_occurence(['hello', 'world', 'hello', 'numpy', 'hello'], substring= 'hello')  "
   ]
  },
  {
   "cell_type": "code",
   "execution_count": 58,
   "id": "6126f78b-06cf-4837-9407-421107264e0f",
   "metadata": {},
   "outputs": [
    {
     "data": {
      "text/plain": [
       "['H', 'W', 'GPT']"
      ]
     },
     "execution_count": 58,
     "metadata": {},
     "output_type": "execute_result"
    }
   ],
   "source": [
    "# 57. incomplete\n",
    "def extract_upper(arr):\n",
    "    ch=[]\n",
    "    for string in arr:\n",
    "        uppercase_string= ''.join([char for char in string if char.isupper()])\n",
    "        ch.append(uppercase_string)\n",
    "    return ch\n",
    "extract_upper (['Hello','World','GPT'])"
   ]
  },
  {
   "cell_type": "code",
   "execution_count": 59,
   "id": "6e1e65e6-fc22-4ea0-8933-1eeaee32b45f",
   "metadata": {},
   "outputs": [
    {
     "data": {
      "text/plain": [
       "array(['lichi', 'banana', 'grapes', 'pinelichi'], dtype='<U9')"
      ]
     },
     "execution_count": 59,
     "metadata": {},
     "output_type": "execute_result"
    }
   ],
   "source": [
    "#58.write a function that replace occurenece of a substring in a numpy array of strings with a new string\n",
    "\n",
    "def replace_occurence(arr,old_substring,new_substring):\n",
    "    return np.char.replace(arr,old_substring,new_substring)\n",
    "\n",
    "replace_occurence(['apple', 'banana', 'grapes', 'pineapple'],'apple', 'lichi')"
   ]
  },
  {
   "cell_type": "code",
   "execution_count": 60,
   "id": "366dd973-3b1c-4bc9-bc37-181083ea38b1",
   "metadata": {},
   "outputs": [
    {
     "data": {
      "text/plain": [
       "array(['helloopen', 'worldAI'], dtype='<U9')"
      ]
     },
     "execution_count": 60,
     "metadata": {},
     "output_type": "execute_result"
    }
   ],
   "source": [
    "#59. write a function that concatenates strings in a numpy array elements-wise.\n",
    "# the given arrays are\n",
    "\n",
    "arr1=np.array(['hello', 'world'])\n",
    "arr2=np.array(['open','AI'])\n",
    "\n",
    "np.char.add(arr1,arr2)"
   ]
  },
  {
   "cell_type": "code",
   "execution_count": 61,
   "id": "4e04b015-9b20-4735-bd01-caa2872d8f36",
   "metadata": {},
   "outputs": [
    {
     "name": "stdout",
     "output_type": "stream",
     "text": [
      "9\n"
     ]
    }
   ],
   "source": [
    "#60.write a function that finds the length of th longest string in a numpy array.\n",
    "# given array\n",
    "\n",
    "arr=np.array(['apple','banan','grapes','pineapple'])\n",
    "length=np.vectorize(len)(arr)\n",
    "\n",
    "print (np.max(length))"
   ]
  },
  {
   "cell_type": "code",
   "execution_count": 62,
   "id": "d27ee920-d60c-4ced-bc3c-d68156f3bb92",
   "metadata": {},
   "outputs": [
    {
     "name": "stdout",
     "output_type": "stream",
     "text": [
      "the mean is :  423.93\n",
      "\n",
      "the median is :  348.5\n",
      "\n",
      "the variance is :  91687.4251\n",
      "\n",
      "the standard daviation is :  302.79931489354465\n"
     ]
    }
   ],
   "source": [
    "#61.create a dataset of 100 random intgers between 1 and 1000. compute the mean, median, variance, and standard deviation of the dataset using numpy's function.\n",
    "dataset=np.random.randint(1,1001,100)\n",
    "print('the mean is : ',np.mean(dataset))\n",
    "print('\\nthe median is : ',np.median(dataset))\n",
    "print('\\nthe variance is : ',np.var(dataset))\n",
    "print('\\nthe standard daviation is : ',np.std(dataset))"
   ]
  },
  {
   "cell_type": "code",
   "execution_count": 63,
   "id": "3f54173b-3739-4ca5-831d-e6274f923a65",
   "metadata": {},
   "outputs": [
    {
     "name": "stdout",
     "output_type": "stream",
     "text": [
      "percentile 25 is :  41.0\n",
      "\n",
      "percentile 75 is :  74.0\n"
     ]
    }
   ],
   "source": [
    "#62.Generate an array of 50 random numbers between 1 and 100. find the 25th and 75th percentiles of the dataset.\n",
    "arr=np.random.randint(1,101,size=50)\n",
    "\n",
    "percentile_25=np.percentile(arr,25)\n",
    "percentile_75=np.percentile(arr,75)\n",
    "\n",
    "print('percentile 25 is : ',percentile_25)\n",
    "\n",
    "print('\\npercentile 75 is : ',percentile_75)"
   ]
  },
  {
   "cell_type": "code",
   "execution_count": 64,
   "id": "a9830fde-6f5a-46e4-9dd9-385ef861feff",
   "metadata": {},
   "outputs": [
    {
     "name": "stdout",
     "output_type": "stream",
     "text": [
      "[[1. 1.]\n",
      " [1. 1.]]\n"
     ]
    }
   ],
   "source": [
    "#63.Create two arrays representing two sets of variables. computethe correlation coefficiant between these arrays using numpy's corrcoef function.\n",
    "set1=np.array([1,2,3,4,5])\n",
    "set2=np.array([6,7,8,9,10])\n",
    "a=np.corrcoef(set1, set2)\n",
    "print(a)"
   ]
  },
  {
   "cell_type": "code",
   "execution_count": 65,
   "id": "48a500aa-2d56-4858-a663-499ec63c8a27",
   "metadata": {},
   "outputs": [
    {
     "data": {
      "text/plain": [
       "matrix([[24, 27, 30],\n",
       "        [54, 61, 68]])"
      ]
     },
     "execution_count": 65,
     "metadata": {},
     "output_type": "execute_result"
    }
   ],
   "source": [
    "#64.create two matrices and perform matrix multiplication using numpy's 'dot' function.\n",
    "\n",
    "mat1=np.mat([[1,2],[3,4]])\n",
    "mat2=np.mat([[6,7,8],[9,10,11]])\n",
    "np.dot(mat1,mat2)"
   ]
  },
  {
   "cell_type": "code",
   "execution_count": 66,
   "id": "84b10027-3ecd-457d-9b7a-dc6437c17f51",
   "metadata": {},
   "outputs": [
    {
     "name": "stdout",
     "output_type": "stream",
     "text": [
      "\n",
      "percentile 10 :  129.0\n",
      "\n",
      "percentile 50 :  479.5\n",
      "\n",
      "percentile 90 :  945.1\n",
      "\n",
      "first quartile :  221.75\n",
      "\n",
      "third quartile :  783.75\n"
     ]
    }
   ],
   "source": [
    "#65.Create an array of 50 integers between 10 and 1000. calculate the 10th, 50th (median), and 90th percentiles along with the first and third quatiles.\n",
    "\n",
    "arr=np.random.randint(10,1001,50)\n",
    "percentile=np.percentile(arr, [10,25,50,75,90])\n",
    "first_quartile=np.percentile(arr,25)\n",
    "\n",
    "third_quartile=np.percentile(arr,75)\n",
    "\n",
    "print('\\npercentile 10 : ',percentile[0])\n",
    "print('\\npercentile 50 : ',percentile[2])\n",
    "print('\\npercentile 90 : ',percentile[4])\n",
    "print('\\nfirst quartile : ',first_quartile)\n",
    "print('\\nthird quartile : ',third_quartile)\n"
   ]
  },
  {
   "cell_type": "code",
   "execution_count": 67,
   "id": "fe33f71b-6354-406a-baec-e25186875815",
   "metadata": {},
   "outputs": [
    {
     "data": {
      "text/plain": [
       "array([4])"
      ]
     },
     "execution_count": 67,
     "metadata": {},
     "output_type": "execute_result"
    }
   ],
   "source": [
    "#66.create an array of integers and find the index of a specific element.\n",
    "arr=np.array([11,12,13,14,15,16,17,18,19,20])\n",
    "\n",
    "# element to find\n",
    "element_to_find=15\n",
    "np.where(arr==element_to_find)[0]"
   ]
  },
  {
   "cell_type": "code",
   "execution_count": 68,
   "id": "f009e6e0-d374-4ea3-83a3-c005da9171ca",
   "metadata": {},
   "outputs": [
    {
     "data": {
      "text/plain": [
       "array([2, 2, 3, 4, 5, 6, 8, 9, 9, 9])"
      ]
     },
     "execution_count": 68,
     "metadata": {},
     "output_type": "execute_result"
    }
   ],
   "source": [
    "# 67.Generate a random numpy array and sort it in ascending order.\n",
    "arr=np.random.randint(1,10,10)\n",
    "\n",
    "np.sort(arr,axis=-1)"
   ]
  },
  {
   "cell_type": "code",
   "execution_count": 69,
   "id": "0fce43af-e47d-4018-b187-6b53ee0b9387",
   "metadata": {},
   "outputs": [
    {
     "data": {
      "text/plain": [
       "array([25, 42, 30])"
      ]
     },
     "execution_count": 69,
     "metadata": {},
     "output_type": "execute_result"
    }
   ],
   "source": [
    "#68.Filter elements >20 in the given numpy array.\n",
    "arr=np.array([1,25,6,42,8,30])\n",
    "new_element=arr[arr>20]\n",
    "new_element"
   ]
  },
  {
   "cell_type": "code",
   "execution_count": 70,
   "id": "c70b8add-2eb5-4e24-9fa3-a32c6e893e05",
   "metadata": {},
   "outputs": [
    {
     "data": {
      "text/plain": [
       "array([12, 15])"
      ]
     },
     "execution_count": 70,
     "metadata": {},
     "output_type": "execute_result"
    }
   ],
   "source": [
    "# 69.Filter elements which are divisile by 3 from a given numpy array.\n",
    "# given array is \n",
    "arr=np.array([1,5,8,12,15])\n",
    "\n",
    "divisible_array=arr[arr % 3 == 0]\n",
    "divisible_array"
   ]
  },
  {
   "cell_type": "code",
   "execution_count": 71,
   "id": "b0b68cfb-826a-4225-8e38-95039b7c8bb9",
   "metadata": {},
   "outputs": [
    {
     "data": {
      "text/plain": [
       "array([20, 30, 40])"
      ]
     },
     "execution_count": 71,
     "metadata": {},
     "output_type": "execute_result"
    }
   ],
   "source": [
    "#70.Filter elements whch are >= 20 and <= 40 from a given numoy array.\n",
    "# given array is \n",
    "arr=np.array([10,20,30,40,50])\n",
    "\n",
    "new_array=arr[arr>=20]\n",
    "filter_element= new_array[new_array<=40]\n",
    "filter_element"
   ]
  },
  {
   "cell_type": "code",
   "execution_count": 72,
   "id": "460c838b-3aad-4655-bf21-3d494755a55e",
   "metadata": {},
   "outputs": [
    {
     "data": {
      "text/plain": [
       "'='"
      ]
     },
     "execution_count": 72,
     "metadata": {},
     "output_type": "execute_result"
    }
   ],
   "source": [
    "#71.for the given numpy array, check its bytes order using the dtype attribtes byteorder.\n",
    "# the given array\n",
    "\n",
    "arr=np.array([1,2,3])\n",
    "arr.dtype.byteorder\n",
    "# it is in native by order"
   ]
  },
  {
   "cell_type": "code",
   "execution_count": 73,
   "id": "01961533-2832-4643-b54c-6e9877beff37",
   "metadata": {},
   "outputs": [
    {
     "data": {
      "text/plain": [
       "array([16777216, 33554432, 50331648], dtype=int32)"
      ]
     },
     "execution_count": 73,
     "metadata": {},
     "output_type": "execute_result"
    }
   ],
   "source": [
    "#72.for the given numpy array. perform byte swapping in place using 'byteswap()'.\n",
    "# the given array\n",
    "\n",
    "arr=np.array([1,2,3], dtype=np.int32)\n",
    "arr.byteswap(inplace=True)"
   ]
  },
  {
   "cell_type": "code",
   "execution_count": 74,
   "id": "305fff35-f732-4dc5-afb2-faece3efe354",
   "metadata": {},
   "outputs": [
    {
     "name": "stdout",
     "output_type": "stream",
     "text": [
      "original array :  [1 2 3]\n",
      "swaped byte order array :  [16777216 33554432 50331648]\n"
     ]
    }
   ],
   "source": [
    "#73.For the given numpy array, swape its byte order without modifying the original array using new byteorder.\n",
    "# given array \n",
    "arr=np.array([1,2,3], dtype=np.int32)\n",
    "swaped_array=arr.newbyteorder()\n",
    "print('original array : ',arr)\n",
    "print('swaped byte order array : ',swaped_array)"
   ]
  },
  {
   "cell_type": "code",
   "execution_count": 75,
   "id": "24502a92-7db1-4751-acd5-623aa72649b5",
   "metadata": {},
   "outputs": [
    {
     "name": "stdout",
     "output_type": "stream",
     "text": [
      "[16777216 33554432 50331648]\n"
     ]
    }
   ],
   "source": [
    "#74.for the given numpy array and swap its byte order conditionally based on system endianness using 'newbyteorder'.\n",
    "arr=np.array([1,2,3],dtype=np.int32)\n",
    "\n",
    "# '=' means the system default endianness\n",
    "if arr.dtype.byteorder =='=':\n",
    "    arr=arr.newbyteorder('>')\n",
    "else:\n",
    "    arr=arr.newbyteorder('<')\n",
    "print (arr)\n"
   ]
  },
  {
   "cell_type": "code",
   "execution_count": 76,
   "id": "5ff60da0-5084-4a6f-90f4-355152391dc7",
   "metadata": {},
   "outputs": [
    {
     "name": "stdout",
     "output_type": "stream",
     "text": [
      "byte swapping is ncessery.\n",
      "original array: [1 2 3]\n",
      "swapped array: [16777216 33554432 50331648]\n"
     ]
    }
   ],
   "source": [
    "#75. for the given numpy array, check if byte swapping is necessery for thr current system using 'dtype' attribute 'byteorder'.\n",
    "arr=np.array([1,2,3],dtype=np.int32)\n",
    "if arr.dtype.byteorder=='=':\n",
    "    swapped_array=arr.newbyteorder('>')\n",
    "    print('byte swapping is ncessery.')\n",
    "    print('original array:',arr)\n",
    "    print('swapped array:',swapped_array)"
   ]
  },
  {
   "cell_type": "code",
   "execution_count": 77,
   "id": "b9ced140-460f-4183-8b45-245b6f44f532",
   "metadata": {},
   "outputs": [
    {
     "name": "stdout",
     "output_type": "stream",
     "text": [
      "original array :  [ 1  2  3  4  5  6  7  8  9 10]\n",
      "\n",
      "copy array :  [ 1  2  3 45  5  6  7  8  9 10]\n",
      "\n",
      "modifyig affects :  False\n"
     ]
    }
   ],
   "source": [
    "#76. create a numpy array arr1 with values from 1 to 10. create a copy of arr1 named copy_arr and modify an element in copy_arr. check if modifying copy_arr affects arr1.\n",
    "arr=np.arange(1,11)\n",
    "copy_arr=arr.copy()\n",
    "print('original array : ',arr)\n",
    "copy_arr[3]=45\n",
    "print('\\ncopy array : ',copy_arr)\n",
    "print('\\nmodifyig affects : ',np.array_equal(arr,copy_arr))"
   ]
  },
  {
   "cell_type": "code",
   "execution_count": 78,
   "id": "29bc42a8-325b-4e15-bd68-d2b8190026cc",
   "metadata": {},
   "outputs": [
    {
     "name": "stdout",
     "output_type": "stream",
     "text": [
      "matrix\n",
      " [[99  3  2]\n",
      " [ 8  4  1]\n",
      " [ 2  7  9]]\n",
      "\n",
      "view slice\n",
      " [[99  3]\n",
      " [ 8  4]]\n"
     ]
    }
   ],
   "source": [
    "#77.cerae a 2D numpy array 'matix' of shape (3,3) with random integers. extract a sloice view_slice from the mtrix modify an element in view_slice and observe if it changes the origial 'matix'.\n",
    "matrix=np.random.randint(1,10,(3,3))  \n",
    "view_slice=matrix[:2,:2]\n",
    "view_slice[0,0]=99\n",
    "print('matrix\\n',matrix)\n",
    "print('\\nview slice\\n',view_slice)\n",
    "#view_slice=matrix.view\n",
    "#view_slice\n"
   ]
  },
  {
   "cell_type": "code",
   "execution_count": 79,
   "id": "828dd9ed-f585-4359-a67e-8c02a2e9a106",
   "metadata": {},
   "outputs": [
    {
     "name": "stdout",
     "output_type": "stream",
     "text": [
      "original array after modification\n",
      " [[ 6  7  3]\n",
      " [ 9 10  6]\n",
      " [ 7  8  9]\n",
      " [10 11 12]]\n",
      "\n",
      "view slice after modification\n",
      " [[ 6  7]\n",
      " [ 9 10]]\n"
     ]
    }
   ],
   "source": [
    "#78.Create a numpy array 'array_a' of shape (4,3) with sequential integers from 1 to 12. Extract a slice 'view_b' from 'array_a' and broadcast the addition of 5 to view_b. checkk if it others the original 'array_a'\n",
    "array_a=np.arange(1,13).reshape(4,3)\n",
    "view_b=array_a[:2,:2]\n",
    "view_b+=5\n",
    "print('original array after modification\\n',array_a)\n",
    "print('\\nview slice after modification\\n',view_b)\n"
   ]
  },
  {
   "cell_type": "code",
   "execution_count": 80,
   "id": "8c107f0b-a861-4394-a1c7-269fcf19a31b",
   "metadata": {},
   "outputs": [
    {
     "name": "stdout",
     "output_type": "stream",
     "text": [
      "original array\n",
      " [[99  2  3  4]\n",
      " [ 5  6  7  8]]\n",
      "\n",
      "reshaped array\n",
      " [[99  2]\n",
      " [ 3  4]\n",
      " [ 5  6]\n",
      " [ 7  8]]\n"
     ]
    }
   ],
   "source": [
    "#79.Create a numpy array 'org_array' of shape(2,4) with vlues from 1 to 8. create a reshape view 'reshaped_view' of shape (4,2) from original array. modify an element in 'reshaped_view' and check if it reflects changes in the original 'orig_array.'\n",
    "orig_array=np.array([[1, 2, 3, 4],\n",
    "                     [5, 6, 7, 8]])\n",
    "reshaped_view=orig_array.reshape(4,2)\n",
    "reshaped_view[0,0]=99\n",
    "print('original array\\n',orig_array)\n",
    "print('\\nreshaped array\\n',reshaped_view)\n"
   ]
  },
  {
   "cell_type": "code",
   "execution_count": 81,
   "id": "fc1975e5-c0f9-4067-912f-7eb3946bcd72",
   "metadata": {},
   "outputs": [
    {
     "name": "stdout",
     "output_type": "stream",
     "text": [
      "original data\n",
      " [[ 5  9  5  5]\n",
      " [11  5  8  7]\n",
      " [ 2  7  4  8]]\n",
      "\n",
      "data copy\n",
      "\n",
      "[99 11  8  7  7  8]\n",
      "\n",
      "original data after modification\n",
      " [[ 5  9  5  5]\n",
      " [11  5  8  7]\n",
      " [ 2  7  4  8]]\n"
     ]
    }
   ],
   "source": [
    "#80.create a nmpy array 'data' of shape (3,4) with random integers. Extract a copy 'data_copy' of elements greater than 5. Modify an element in 'data_copy' and verify if it effects the original'data'.\n",
    "data=np.random.randint(1,13,size=(3,4))\n",
    "print('original data\\n',data)\n",
    "data_copy=data[data>5].copy()\n",
    "data_copy[0]=99\n",
    "print('\\ndata copy\\n',)\n",
    "print(data_copy)\n",
    "print('\\noriginal data after modification\\n',data)"
   ]
  },
  {
   "cell_type": "code",
   "execution_count": 82,
   "id": "b02bc05e-f4fb-4a8d-b692-fdd5a7c929b5",
   "metadata": {},
   "outputs": [
    {
     "name": "stdout",
     "output_type": "stream",
     "text": [
      "mtrixs A\n",
      " [[1 5 7 1]\n",
      " [3 9 5 3]\n",
      " [9 3 5 8]]\n",
      "\n",
      "mtrixs B\n",
      " [[2 6 4 3]\n",
      " [2 0 3 5]\n",
      " [2 9 6 7]]\n",
      "\n",
      "addition is\n",
      " [[ 3 11 11  4]\n",
      " [ 5  9  8  8]\n",
      " [11 12 11 15]]\n",
      "\n",
      "subtraction  is\n",
      " [[-1 -1  3 -2]\n",
      " [ 1  9  2 -2]\n",
      " [ 7 -6 -1  1]]\n"
     ]
    }
   ],
   "source": [
    "#81.Create two matrix A and B of identical shape containing integers and perform addition and subtract operations between them.\n",
    "shape=(3,4)\n",
    "A=np.random.randint(0,10,size=shape)\n",
    "print('mtrixs A\\n',A)\n",
    "B=np.random.randint(0,10,size=shape)\n",
    "print('\\nmtrixs B\\n',B)\n",
    "print('\\naddition is\\n',A+B)\n",
    "print('\\nsubtraction  is\\n',A-B)"
   ]
  },
  {
   "cell_type": "code",
   "execution_count": 83,
   "id": "4f458b9e-3acb-48f4-adaa-345eb4113eeb",
   "metadata": {},
   "outputs": [
    {
     "name": "stdout",
     "output_type": "stream",
     "text": [
      "matrix C\n",
      " [[1 2]\n",
      " [3 4]\n",
      " [5 6]]\n",
      "\n",
      "matrix D\n",
      " [[ 7  8  9 10]\n",
      " [11 12 13 14]]\n",
      "\n",
      "multiplication\n",
      " [[ 29  32  35  38]\n",
      " [ 65  72  79  86]\n",
      " [101 112 123 134]]\n"
     ]
    }
   ],
   "source": [
    "# 82.Generate two matrices 'C' (3*2) and 'D' (2*4) and perform matrix multiplication.\n",
    "\n",
    "C=np.mat([[1,2],[3,4],[5,6]])\n",
    "print('matrix C\\n',C)\n",
    "\n",
    "D=np.mat([[7,8,9,10],[11,12,13,14]])\n",
    "print('\\nmatrix D\\n',D)\n",
    "# in multiplicqtion matix shape muust be (column of first matrix is equals to row of scond matrix)\n",
    "print('\\nmultiplication\\n',(C * D))"
   ]
  },
  {
   "cell_type": "code",
   "execution_count": 84,
   "id": "d01056eb-0601-4f1e-a7d5-6ed124ed096f",
   "metadata": {},
   "outputs": [
    {
     "name": "stdout",
     "output_type": "stream",
     "text": [
      "transpose of matrix is\n",
      " [[ 7 11]\n",
      " [ 8 12]\n",
      " [ 9 13]\n",
      " [10 14]]\n"
     ]
    }
   ],
   "source": [
    "# 83.Create a matrix 'E' and find its transpose.\n",
    "E=np.mat([[7, 8, 9, 10],\n",
    "          [11, 12, 13, 14]])\n",
    " #for matrix transpose\n",
    "print('transpose of matrix is\\n',E.T)"
   ]
  },
  {
   "cell_type": "code",
   "execution_count": 85,
   "id": "d34015eb-ed6a-46c5-a4e9-70026360a79e",
   "metadata": {},
   "outputs": [
    {
     "name": "stdout",
     "output_type": "stream",
     "text": [
      "this is a squre mtrix\n",
      " [[0.37964731 0.05149371 0.27003444 0.53612118]\n",
      " [0.17304773 0.09886092 0.97248253 0.89487802]\n",
      " [0.90328259 0.41324829 0.47189392 0.07931357]\n",
      " [0.14716628 0.51055088 0.84505213 0.39420365]]\n",
      "\n",
      "the determinant is \n",
      " -0.10845716432353966\n"
     ]
    }
   ],
   "source": [
    "#84.Generate a square matrix 'F' and compute its determinant.\n",
    "#a square matrix F is(the elements are between 0 to 1(exclusive)) \n",
    "F=np.random.rand(4,4)\n",
    "print('this is a squre mtrix\\n',F)\n",
    "\n",
    "# for determinant using liner algebra det\n",
    "print('\\nthe determinant is \\n',np.linalg.det(F))"
   ]
  },
  {
   "cell_type": "code",
   "execution_count": 86,
   "id": "cf5a593c-f355-4a94-9eb2-acbb09166a0b",
   "metadata": {},
   "outputs": [
    {
     "name": "stdout",
     "output_type": "stream",
     "text": [
      "this is a squre mtrix\n",
      " [[0.69336688 0.85552983 0.78107152 0.1385891 ]\n",
      " [0.38963007 0.43628465 0.90710809 0.28826672]\n",
      " [0.10884465 0.09851925 0.48887895 0.84510505]\n",
      " [0.32122884 0.04484267 0.40464068 0.46843059]]\n",
      "\n",
      "the inverse mtrix is \n",
      " [[ 0.69554937 -1.35614005 -1.79341402  3.86430298]\n",
      " [ 1.6637789  -1.05464626  1.68485917 -2.8829142 ]\n",
      " [-1.23610748  2.57003605 -0.52323343 -0.27188152]\n",
      " [ 0.43152724 -1.18911251  1.52053319 -0.00434149]]\n"
     ]
    }
   ],
   "source": [
    "#85.create a sqauare mattrix 'G' and find its inverse.\n",
    "#(the elements are between 0 to 1(exclusive))\n",
    "G=np.random.rand(4,4)\n",
    "print('this is a squre mtrix\\n',G)\n",
    "\n",
    "# here is a linearlgebra inverse of mtrix\n",
    "print('\\nthe inverse mtrix is \\n',np.linalg.inv(G))"
   ]
  },
  {
   "cell_type": "code",
   "execution_count": null,
   "id": "e167fa86-58ae-438f-8232-75dfaa46f6e2",
   "metadata": {},
   "outputs": [],
   "source": []
  },
  {
   "cell_type": "code",
   "execution_count": null,
   "id": "e99d8a04-8c7c-48e4-91b5-eda545cbd6d3",
   "metadata": {},
   "outputs": [],
   "source": []
  }
 ],
 "metadata": {
  "kernelspec": {
   "display_name": "Python 3 (ipykernel)",
   "language": "python",
   "name": "python3"
  },
  "language_info": {
   "codemirror_mode": {
    "name": "ipython",
    "version": 3
   },
   "file_extension": ".py",
   "mimetype": "text/x-python",
   "name": "python",
   "nbconvert_exporter": "python",
   "pygments_lexer": "ipython3",
   "version": "3.10.8"
  }
 },
 "nbformat": 4,
 "nbformat_minor": 5
}
